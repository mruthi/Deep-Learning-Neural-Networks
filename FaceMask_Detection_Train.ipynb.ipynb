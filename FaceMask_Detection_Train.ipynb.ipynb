{
 "cells": [
  {
   "cell_type": "code",
   "execution_count": 1,
   "id": "18822ada-ec25-46ab-87ea-ace5e68a953b",
   "metadata": {},
   "outputs": [],
   "source": [
    "# USAGE\n",
    "# python train_mask_detector.py --dataset dataset\n",
    "\n",
    "# import the necessary packages\n",
    "from tensorflow.keras.preprocessing.image import ImageDataGenerator\n",
    "from tensorflow.keras.applications import MobileNetV2\n",
    "from tensorflow.keras.layers import AveragePooling2D\n",
    "from tensorflow.keras.layers import Dropout\n",
    "from tensorflow.keras.layers import Flatten\n",
    "from tensorflow.keras.layers import Dense\n",
    "from tensorflow.keras.layers import Input\n",
    "from tensorflow.keras.models import Model\n",
    "from tensorflow.keras.optimizers import Adam\n",
    "from tensorflow.keras.applications.mobilenet_v2 import preprocess_input\n",
    "from tensorflow.keras.preprocessing.image import img_to_array,load_img\n",
    "from tensorflow.keras.preprocessing.image import load_img\n",
    "from tensorflow.keras.utils import to_categorical\n",
    "from sklearn.preprocessing import LabelBinarizer\n",
    "from sklearn.model_selection import train_test_split\n",
    "from sklearn.metrics import classification_report\n",
    "from imutils import paths\n",
    "import matplotlib.pyplot as plt\n",
    "import numpy as np\n",
    "import argparse\n",
    "import os"
   ]
  },
  {
   "cell_type": "code",
   "execution_count": 2,
   "id": "46ffb347-55ae-46c6-91fe-b40946649858",
   "metadata": {},
   "outputs": [],
   "source": [
    "#!pip install matplotlib"
   ]
  },
  {
   "cell_type": "code",
   "execution_count": 3,
   "id": "ea2d4f44-39ca-43e1-b95a-153cc9311bfb",
   "metadata": {},
   "outputs": [],
   "source": [
    "#!pip install imutils"
   ]
  },
  {
   "cell_type": "code",
   "execution_count": 4,
   "id": "42891daa-1562-470d-b7f5-28d3865ded69",
   "metadata": {},
   "outputs": [],
   "source": [
    "#!pip install opencv-python-headless"
   ]
  },
  {
   "cell_type": "code",
   "execution_count": 5,
   "id": "b77b8ec0-50e9-47d2-91d9-c03c1322f08d",
   "metadata": {},
   "outputs": [],
   "source": [
    "# initialize the initial learning rate, number of epochs to train for,\n",
    "# and batch size\n",
    "INIT_LR = 1e-4\n",
    "EPOCHS = 10\n",
    "BS = 32"
   ]
  },
  {
   "cell_type": "code",
   "execution_count": 6,
   "id": "19207e89-455a-4a5a-b4c0-a15e4310a026",
   "metadata": {},
   "outputs": [],
   "source": [
    "#!pip install scikit-learn"
   ]
  },
  {
   "cell_type": "code",
   "execution_count": 7,
   "id": "a7269a3d-a0b9-4706-94cb-cd4d3bb29035",
   "metadata": {},
   "outputs": [],
   "source": [
    "# r before string will prevent Python from interpreting escape characters.\n",
    "DIRECTORY = r\"C:\\Deep learning\\Face Mask Detection\\dataset\"\n",
    "CATEGORIES = [\"with_mask\", \"without_mask\"]"
   ]
  },
  {
   "cell_type": "code",
   "execution_count": 8,
   "id": "bd26b8b6-f6e0-4ed8-8f2e-31090be65e57",
   "metadata": {},
   "outputs": [
    {
     "name": "stdout",
     "output_type": "stream",
     "text": [
      "[INFO] loading images...\n"
     ]
    }
   ],
   "source": [
    "# grab the list of images in our dataset directory, then initialize\n",
    "# the list of data (i.e., images) and class images\n",
    "print(\"[INFO] loading images...\")\n",
    "\n",
    "data = []\n",
    "labels = [] "
   ]
  },
  {
   "cell_type": "code",
   "execution_count": 9,
   "id": "f35d532b-8d13-461a-a59f-758bcf20d1db",
   "metadata": {},
   "outputs": [
    {
     "name": "stdout",
     "output_type": "stream",
     "text": [
      "Found 3846 images.\n",
      "Example image paths:\n",
      "['C:\\\\Deep learning\\\\Face Mask Detection\\\\dataset\\\\without_mask\\\\0.jpg', 'C:\\\\Deep learning\\\\Face Mask Detection\\\\dataset\\\\without_mask\\\\0_0_aidai_0014.jpg', 'C:\\\\Deep learning\\\\Face Mask Detection\\\\dataset\\\\without_mask\\\\0_0_aidai_0029.jpg', 'C:\\\\Deep learning\\\\Face Mask Detection\\\\dataset\\\\without_mask\\\\0_0_aidai_0043.jpg', 'C:\\\\Deep learning\\\\Face Mask Detection\\\\dataset\\\\without_mask\\\\0_0_aidai_0074.jpg']\n"
     ]
    }
   ],
   "source": [
    "from imutils import paths\n",
    "\n",
    "# Define the path to your dataset\n",
    "dataset_path = r\"C:\\Deep learning\\Face Mask Detection\\dataset\"\n",
    "\n",
    "# List all image paths in the dataset\n",
    "imagePaths = list(paths.list_images(dataset_path))\n",
    "\n",
    "# Print the number of images found and a few example paths\n",
    "print(f\"Found {len(imagePaths)} images.\")\n",
    "print(\"Example image paths:\")\n",
    "print(imagePaths[:5])  # Print first 5 image paths"
   ]
  },
  {
   "cell_type": "code",
   "execution_count": 10,
   "id": "81899da1-6dc2-4bca-9dac-2a0fca502db5",
   "metadata": {},
   "outputs": [
    {
     "name": "stderr",
     "output_type": "stream",
     "text": [
      "C:\\Users\\yuga\\anaconda3\\envs\\aiml\\lib\\site-packages\\PIL\\Image.py:1054: UserWarning: Palette images with Transparency expressed in bytes should be converted to RGBA images\n",
      "  warnings.warn(\n"
     ]
    }
   ],
   "source": [
    "# loop over the image paths\n",
    "for imagePath in imagePaths:\n",
    "\t# extract the class label from the filename\n",
    "\tlabel = imagePath.split(os.path.sep)[-2]\n",
    "\n",
    "\t# load the input image (224x224) and preprocess it\n",
    "\timage = load_img(imagePath, target_size=(224, 224))\n",
    "\timage = img_to_array(image)\n",
    "\timage = preprocess_input(image)\n",
    "\n",
    "\t# update the data and labels lists, respectively\n",
    "\tdata.append(image)\n",
    "\tlabels.append(label)\n",
    "\n",
    "# convert the data and labels to NumPy arrays\n",
    "data = np.array(data, dtype=\"float32\")\n",
    "labels = np.array(labels)"
   ]
  },
  {
   "cell_type": "code",
   "execution_count": 11,
   "id": "941265ab-22ed-45f5-a279-3bfec81c7cf9",
   "metadata": {},
   "outputs": [],
   "source": [
    "# perform one-hot encoding on the labels\n",
    "lb = LabelBinarizer()\n",
    "labels = lb.fit_transform(labels)\n",
    "labels = to_categorical(labels)\n"
   ]
  },
  {
   "cell_type": "code",
   "execution_count": 12,
   "id": "411cdc3e-11e4-4977-b549-253445a5f9e6",
   "metadata": {},
   "outputs": [],
   "source": [
    "# partition the data into training and testing splits using 75% of\n",
    "# the data for training and the remaining 25% for testing\n",
    "(trainX, testX, trainY, testY) = train_test_split(data, labels,\n",
    "\ttest_size=0.20, stratify=labels, random_state=42)"
   ]
  },
  {
   "cell_type": "code",
   "execution_count": 14,
   "id": "62bd794e-52cf-44db-b135-71fc64fe5a3c",
   "metadata": {},
   "outputs": [],
   "source": [
    "# Construct the training image generator for data augmentation\n",
    "aug = ImageDataGenerator(\n",
    "    rotation_range=20,\n",
    "    zoom_range=0.15,\n",
    "    width_shift_range=0.2,\n",
    "    height_shift_range=0.2,\n",
    "    shear_range=0.15,\n",
    "    horizontal_flip=True,\n",
    "    fill_mode=\"nearest\")"
   ]
  },
  {
   "cell_type": "code",
   "execution_count": 15,
   "id": "619e6a20-9398-4657-a7aa-fbe95c14e47b",
   "metadata": {},
   "outputs": [],
   "source": [
    "# Construct the validation image generator\n",
    "val_aug = ImageDataGenerator()"
   ]
  },
  {
   "cell_type": "code",
   "execution_count": 16,
   "id": "e857c954-abff-40e6-9af9-bc2ae5e11536",
   "metadata": {},
   "outputs": [],
   "source": [
    "# Create data generators\n",
    "train_generator = aug.flow(trainX, trainY, batch_size=BS)\n",
    "val_generator = val_aug.flow(testX, testY, batch_size=BS)"
   ]
  },
  {
   "cell_type": "code",
   "execution_count": 17,
   "id": "a758db44-9094-46eb-92f0-94395434fd78",
   "metadata": {},
   "outputs": [
    {
     "data": {
      "text/plain": [
       "<keras.preprocessing.image.NumpyArrayIterator at 0x1ce1cb35b40>"
      ]
     },
     "execution_count": 17,
     "metadata": {},
     "output_type": "execute_result"
    }
   ],
   "source": [
    "train_generator "
   ]
  },
  {
   "cell_type": "code",
   "execution_count": 18,
   "id": "050281ac-e215-4232-a13f-ac7742b7cd73",
   "metadata": {},
   "outputs": [
    {
     "name": "stdout",
     "output_type": "stream",
     "text": [
      "WARNING:tensorflow:`input_shape` is undefined or non-square, or `rows` is not in [96, 128, 160, 192, 224]. Weights for input shape (224, 224) will be loaded as the default.\n",
      "Downloading data from https://storage.googleapis.com/tensorflow/keras-applications/mobilenet_v2/mobilenet_v2_weights_tf_dim_ordering_tf_kernels_1.0_224_no_top.h5\n",
      "9406464/9406464 [==============================] - 55s 6us/step\n"
     ]
    }
   ],
   "source": [
    "# load the MobileNetV2 network, ensuring the head FC layer sets are\n",
    "# left off\n",
    "baseModel = MobileNetV2(weights=\"imagenet\", include_top=False,\n",
    "\tinput_tensor=Input(shape=(224, 224, 3)))"
   ]
  },
  {
   "cell_type": "code",
   "execution_count": 19,
   "id": "86d13bc8-9d2d-4f7a-bbec-63a80aeefe8d",
   "metadata": {},
   "outputs": [],
   "source": [
    "# construct the head of the model that will be placed on top of the\n",
    "# the base model\n",
    "headModel = baseModel.output\n",
    "headModel = AveragePooling2D(pool_size=(7, 7))(headModel)\n",
    "headModel = Flatten(name=\"flatten\")(headModel)\n",
    "headModel = Dense(128, activation=\"relu\")(headModel)\n",
    "headModel = Dropout(0.5)(headModel)\n",
    "headModel = Dense(2, activation=\"softmax\")(headModel)"
   ]
  },
  {
   "cell_type": "code",
   "execution_count": 20,
   "id": "4b7553f4-88dc-4bf5-8dff-746f502fb974",
   "metadata": {},
   "outputs": [],
   "source": [
    "# place the head FC model on top of the base model (this will become\n",
    "# the actual model we will train)\n",
    "model = Model(inputs=baseModel.input, outputs=headModel)"
   ]
  },
  {
   "cell_type": "code",
   "execution_count": 21,
   "id": "cb014f35-a9a4-4d7d-bf37-d10c1321e114",
   "metadata": {},
   "outputs": [],
   "source": [
    "# loop over all layers in the base model and freeze them so they will\n",
    "# *not* be updated during the first training process\n",
    "for layer in baseModel.layers:\n",
    "\tlayer.trainable = False"
   ]
  },
  {
   "cell_type": "code",
   "execution_count": 22,
   "id": "9b470fc4-ed45-4fd5-8b9c-f007553b78f2",
   "metadata": {},
   "outputs": [
    {
     "name": "stdout",
     "output_type": "stream",
     "text": [
      "[INFO] compiling model...\n"
     ]
    }
   ],
   "source": [
    "# compile our model\n",
    "print(\"[INFO] compiling model...\")\n",
    "opt = Adam(learning_rate=INIT_LR)\n",
    "model.compile(loss=\"binary_crossentropy\", optimizer=opt, metrics=[\"accuracy\"])"
   ]
  },
  {
   "cell_type": "code",
   "execution_count": 23,
   "id": "9cb89394-0521-4ef4-b772-a3eb348a02f6",
   "metadata": {},
   "outputs": [
    {
     "name": "stdout",
     "output_type": "stream",
     "text": [
      "[INFO] compiling model...\n"
     ]
    }
   ],
   "source": [
    "# Compile our model\n",
    "print(\"[INFO] compiling model...\")\n",
    "opt = Adam(learning_rate=INIT_LR)\n",
    "model.compile(loss=\"binary_crossentropy\", optimizer=opt, metrics=[\"accuracy\"])"
   ]
  },
  {
   "cell_type": "code",
   "execution_count": 24,
   "id": "5cf5efce-0ef0-4570-82a8-7ca772315b0b",
   "metadata": {},
   "outputs": [
    {
     "name": "stdout",
     "output_type": "stream",
     "text": [
      "[INFO] training head...\n",
      "Epoch 1/10\n",
      "96/96 [==============================] - 388s 4s/step - loss: 0.3747 - accuracy: 0.8706 - val_loss: 0.1451 - val_accuracy: 0.9857\n",
      "Epoch 2/10\n",
      "96/96 [==============================] - 293s 3s/step - loss: 0.1543 - accuracy: 0.9570 - val_loss: 0.0847 - val_accuracy: 0.9857\n",
      "Epoch 3/10\n",
      "96/96 [==============================] - 323s 3s/step - loss: 0.0990 - accuracy: 0.9740 - val_loss: 0.0661 - val_accuracy: 0.9883\n",
      "Epoch 4/10\n",
      "96/96 [==============================] - 297s 3s/step - loss: 0.0846 - accuracy: 0.9757 - val_loss: 0.0538 - val_accuracy: 0.9909\n",
      "Epoch 5/10\n",
      "96/96 [==============================] - 306s 3s/step - loss: 0.0667 - accuracy: 0.9803 - val_loss: 0.0465 - val_accuracy: 0.9896\n",
      "Epoch 6/10\n",
      "96/96 [==============================] - 273s 3s/step - loss: 0.0594 - accuracy: 0.9829 - val_loss: 0.0437 - val_accuracy: 0.9909\n",
      "Epoch 7/10\n",
      "96/96 [==============================] - 284s 3s/step - loss: 0.0569 - accuracy: 0.9826 - val_loss: 0.0415 - val_accuracy: 0.9909\n",
      "Epoch 8/10\n",
      "96/96 [==============================] - 244s 3s/step - loss: 0.0451 - accuracy: 0.9875 - val_loss: 0.0418 - val_accuracy: 0.9909\n",
      "Epoch 9/10\n",
      "96/96 [==============================] - 507s 5s/step - loss: 0.0481 - accuracy: 0.9842 - val_loss: 0.0389 - val_accuracy: 0.9909\n",
      "Epoch 10/10\n",
      "96/96 [==============================] - 273s 3s/step - loss: 0.0502 - accuracy: 0.9839 - val_loss: 0.0418 - val_accuracy: 0.9909\n"
     ]
    }
   ],
   "source": [
    "# Train the head of the network\n",
    "print(\"[INFO] training head...\")\n",
    "H = model.fit(\n",
    "    train_generator,\n",
    "    steps_per_epoch=len(trainX) // BS,\n",
    "    validation_data=val_generator,\n",
    "    validation_steps=len(testX) // BS,\n",
    "    epochs=EPOCHS)"
   ]
  },
  {
   "cell_type": "code",
   "execution_count": 25,
   "id": "802dde73-b308-4cc6-b084-4bea6836a20b",
   "metadata": {},
   "outputs": [
    {
     "name": "stdout",
     "output_type": "stream",
     "text": [
      "[INFO] evaluating network...\n",
      "25/25 [==============================] - 59s 2s/step\n"
     ]
    }
   ],
   "source": [
    "# make predictions on the testing set\n",
    "print(\"[INFO] evaluating network...\")\n",
    "predIdxs = model.predict(testX, batch_size=BS)"
   ]
  },
  {
   "cell_type": "code",
   "execution_count": 26,
   "id": "5b678ad2-9205-4a16-8d4b-122996fa08f7",
   "metadata": {},
   "outputs": [],
   "source": [
    "# for each image in the testing set we need to find the index of the\n",
    "# label with corresponding largest predicted probability\n",
    "predIdxs = np.argmax(predIdxs, axis=1)"
   ]
  },
  {
   "cell_type": "code",
   "execution_count": 27,
   "id": "8ea07475-3a13-46d5-a7fe-459b9821d679",
   "metadata": {},
   "outputs": [
    {
     "name": "stdout",
     "output_type": "stream",
     "text": [
      "              precision    recall  f1-score   support\n",
      "\n",
      "   with_mask       0.99      0.99      0.99       384\n",
      "without_mask       0.99      0.99      0.99       386\n",
      "\n",
      "    accuracy                           0.99       770\n",
      "   macro avg       0.99      0.99      0.99       770\n",
      "weighted avg       0.99      0.99      0.99       770\n",
      "\n"
     ]
    }
   ],
   "source": [
    "# show a nicely formatted classification report\n",
    "print(classification_report(testY.argmax(axis=1), predIdxs,\n",
    "\ttarget_names=lb.classes_))"
   ]
  },
  {
   "cell_type": "code",
   "execution_count": 28,
   "id": "6d7f52f8-c5ba-4354-9985-c8e202dca882",
   "metadata": {},
   "outputs": [
    {
     "name": "stdout",
     "output_type": "stream",
     "text": [
      "[INFO] saving mask detector model...\n"
     ]
    }
   ],
   "source": [
    "# serialize the model to disk\n",
    "print(\"[INFO] saving mask detector model...\")\n",
    "model.save(\"Face_Mask_Detector.h5\")\n"
   ]
  },
  {
   "cell_type": "code",
   "execution_count": 29,
   "id": "e8f9c83e-5826-4268-8d1b-fa0a5ee7de22",
   "metadata": {},
   "outputs": [
    {
     "data": {
      "image/png": "[encoded data removed]",
      "text/plain": [
       "<Figure size 640x480 with 1 Axes>"
      ]
     },
     "metadata": {},
     "output_type": "display_data"
    }
   ],
   "source": [
    "# plot the training loss and accuracy\n",
    "N = EPOCHS\n",
    "plt.style.use(\"ggplot\")\n",
    "plt.figure()\n",
    "plt.plot(np.arange(0, N), H.history[\"loss\"], label=\"train_loss\")\n",
    "plt.plot(np.arange(0, N), H.history[\"val_loss\"], label=\"val_loss\")\n",
    "plt.plot(np.arange(0, N), H.history[\"accuracy\"], label=\"train_acc\")\n",
    "plt.plot(np.arange(0, N), H.history[\"val_accuracy\"], label=\"val_acc\")\n",
    "plt.title(\"Training Loss and Accuracy\")\n",
    "plt.xlabel(\"Epoch #\")\n",
    "plt.ylabel(\"Loss/Accuracy\")\n",
    "plt.legend(loc=\"lower left\")\n",
    "plt.savefig(\"plot.png\")"
   ]
  },
  {
   "cell_type": "code",
   "execution_count": null,
   "id": "3d13ae39-4f4d-4a3f-aae2-dcc65c239188",
   "metadata": {},
   "outputs": [],
   "source": []
  }
 ],
 "metadata": {
  "kernelspec": {
   "display_name": "Python 3 (ipykernel)",
   "language": "python",
   "name": "python3"
  },
  "language_info": {
   "codemirror_mode": {
    "name": "ipython",
    "version": 3
   },
   "file_extension": ".py",
   "mimetype": "text/x-python",
   "name": "python",
   "nbconvert_exporter": "python",
   "pygments_lexer": "ipython3",
   "version": "3.10.15"
  }
 },
 "nbformat": 4,
 "nbformat_minor": 5
}
